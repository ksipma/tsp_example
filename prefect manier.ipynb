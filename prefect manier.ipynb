{
 "cells": [
  {
   "cell_type": "code",
   "execution_count": 1,
   "metadata": {},
   "outputs": [],
   "source": [
    "import requests # om queries mee te berekenen\n",
    "import pandas as pd # om dataset mee in te laden\n",
    "from python_tsp.heuristics import solve_tsp_simulated_annealing # om optimale route mee te berekenen\n",
    "import numpy as np # voor array berekenen\n",
    "from prefect import task, Flow # om taken te verbinden aan dashboard\n",
    "from prefect.executors import LocalDaskExecutor"
   ]
  },
  {
   "cell_type": "code",
   "execution_count": 2,
   "metadata": {},
   "outputs": [],
   "source": [
    "@task()\n",
    "def dataset_inlezen():\n",
    "    df = pd.read_csv(\"dataset.csv\", sep=\";\")\n",
    "    datasets = []\n",
    "    for current_woonplaats in df['woonplaats'].unique():\n",
    "        \n",
    "        # haal alleen de locaties van de huidige woonplaats op\n",
    "        temp_df = df[df['woonplaats'] == current_woonplaats].sample(150).copy()\n",
    "        \n",
    "        temp_df['rijnummer'] =  np.arange(temp_df.shape[0]) # voeg een rijnummer toe\n",
    "        datasets.append({\"woonplaats\": current_woonplaats, \"dataset\": temp_df})\n",
    "        \n",
    "    return datasets"
   ]
  },
  {
   "cell_type": "code",
   "execution_count": 3,
   "metadata": {},
   "outputs": [],
   "source": [
    "@task()\n",
    "def fetch_distance_matrix(record):\n",
    "    \n",
    "    # uitrekenen van coordinaat paren, van losse kolommen naar 1 lange string\n",
    "    # dus van:\n",
    "    # lat, lon\n",
    "    # 1234, 5678\n",
    "    # 9102, 3456\n",
    "    # naar:\n",
    "    # 1234,5678;9102,3456\n",
    "    coords = \"\"\n",
    "    for coordpair in record['dataset'][['lat','lon']].astype(str).to_dict(\"records\"):\n",
    "        coords += coordpair['lon'] + \",\" + coordpair['lat'] + \";\"\n",
    "        \n",
    "    # haal de laatste ; weg\n",
    "    coords = coords[:-1]\n",
    "    \n",
    "    # doe een api call naar de OSRM-backend instantie en haal een matrix van deze routegegevens op\n",
    "    distance_matrix = np.array(requests.get(\"http://localhost:5000/table/v1/driving/\"+ coords).json()['durations'])\n",
    "    \n",
    "    # sla de distance matrix op onder de key 'distance_matrix' voor de volgende taak\n",
    "    record['distance_matrix'] = distance_matrix\n",
    "    \n",
    "    return record"
   ]
  },
  {
   "cell_type": "code",
   "execution_count": 4,
   "metadata": {},
   "outputs": [],
   "source": [
    "@task()\n",
    "def optimize_order(record):   \n",
    "    \n",
    "    # los het probleem op met behulp van de tsp_solver\n",
    "    optimized_order, total_duration = solve_tsp_simulated_annealing(record['distance_matrix'])\n",
    "    \n",
    "    # voeg de volgorde toe als kolom aan de orginele dataset\n",
    "    for index, location in enumerate(optimized_order):\n",
    "        record['dataset'].loc[record['dataset']['rijnummer'] == location, 'volgorde'] = index\n",
    "    \n",
    "    # sla de total_duration op voor printen in de volgende taak\n",
    "    record['total_duration'] = total_duration\n",
    "    \n",
    "    return record"
   ]
  },
  {
   "cell_type": "code",
   "execution_count": 5,
   "metadata": {},
   "outputs": [],
   "source": [
    "@task()\n",
    "def store_datasets(record):\n",
    "    \n",
    "    # sorteer de volgorde met de nieuwe gegevens om een routebook te maken   \n",
    "    record['dataset'].sort_values(by=\"volgorde\", inplace=True)\n",
    "    \n",
    "    record['dataset'].to_csv(\"prefect_\" + record['woonplaats'] + \".csv\", sep=\";\", index=False)\n",
    "    logger = prefect.context.get(\"logger\")\n",
    "    logger.info(\" \".join([\"De totale reistijd van deze route is \", str(round(record['total_duration']/60)), \"uur, dit is de route voor:\", record['woonplaats']]))\n",
    "    \n",
    "    return record"
   ]
  },
  {
   "cell_type": "code",
   "execution_count": 67,
   "metadata": {},
   "outputs": [
    {
     "name": "stdout",
     "output_type": "stream",
     "text": [
      "Flow URL: http://localhost:8080/default/flow/172f4c7e-1bef-49e1-bf2e-69afe8a02c1f\n",
      " └── ID: b8638f7c-a847-4afa-b7ef-78ddee35f3d8\n",
      " └── Project: tsp-example\n",
      " └── Labels: ['DESKTOP-RQUUSMJ']\n"
     ]
    },
    {
     "data": {
      "text/plain": [
       "'b8638f7c-a847-4afa-b7ef-78ddee35f3d8'"
      ]
     },
     "execution_count": 67,
     "metadata": {},
     "output_type": "execute_result"
    }
   ],
   "source": [
    "# definieer de flow met prefect\n",
    "with Flow(\"prallel tsp uitrekenen\") as flow:        \n",
    "    # lees dataset in\n",
    "    datasets = dataset_inlezen()\n",
    "    \n",
    "    # map de input een paar keer met dask parallel. Dit is vergelijkbaar met een for loop\n",
    "    datasets = fetch_distance_matrix.map(datasets)\n",
    "    datasets = optimize_order.map(datasets)\n",
    "    datasets = store_datasets.map(datasets)\n",
    "\n",
    "# stel in dat Dask wordt gebruikt om de taken mee uit te voeren\n",
    "flow.executor = LocalDaskExecutor()\n",
    "\n",
    "# registreer het project in de GUI van prefect\n",
    "flow.register(project_name=\"tsp-example\")"
   ]
  }
 ],
 "metadata": {
  "kernelspec": {
   "display_name": "Python 3",
   "language": "python",
   "name": "python3"
  },
  "language_info": {
   "codemirror_mode": {
    "name": "ipython",
    "version": 3
   },
   "file_extension": ".py",
   "mimetype": "text/x-python",
   "name": "python",
   "nbconvert_exporter": "python",
   "pygments_lexer": "ipython3",
   "version": "3.8.5"
  }
 },
 "nbformat": 4,
 "nbformat_minor": 4
}
