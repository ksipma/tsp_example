{
 "cells": [
  {
   "cell_type": "code",
   "execution_count": 8,
   "metadata": {},
   "outputs": [],
   "source": [
    "import requests # om queries mee te berekenen\n",
    "import pandas as pd # om dataset mee in te laden\n",
    "from python_tsp.heuristics import solve_tsp_simulated_annealing # om optimale route mee te berekenen\n",
    "import numpy as np # voor array berekenen"
   ]
  },
  {
   "cell_type": "code",
   "execution_count": 9,
   "metadata": {},
   "outputs": [
    {
     "data": {
      "text/html": [
       "<div>\n",
       "<style scoped>\n",
       "    .dataframe tbody tr th:only-of-type {\n",
       "        vertical-align: middle;\n",
       "    }\n",
       "\n",
       "    .dataframe tbody tr th {\n",
       "        vertical-align: top;\n",
       "    }\n",
       "\n",
       "    .dataframe thead th {\n",
       "        text-align: right;\n",
       "    }\n",
       "</style>\n",
       "<table border=\"1\" class=\"dataframe\">\n",
       "  <thead>\n",
       "    <tr style=\"text-align: right;\">\n",
       "      <th></th>\n",
       "      <th>huisnummer</th>\n",
       "      <th>postcode</th>\n",
       "      <th>woonplaats</th>\n",
       "      <th>lat</th>\n",
       "      <th>lon</th>\n",
       "    </tr>\n",
       "  </thead>\n",
       "  <tbody>\n",
       "    <tr>\n",
       "      <th>0</th>\n",
       "      <td>6</td>\n",
       "      <td>8266JC</td>\n",
       "      <td>Kampen</td>\n",
       "      <td>52.539016</td>\n",
       "      <td>5.931903</td>\n",
       "    </tr>\n",
       "    <tr>\n",
       "      <th>1</th>\n",
       "      <td>205</td>\n",
       "      <td>8021AR</td>\n",
       "      <td>Zwolle</td>\n",
       "      <td>52.515551</td>\n",
       "      <td>6.107565</td>\n",
       "    </tr>\n",
       "    <tr>\n",
       "      <th>2</th>\n",
       "      <td>138</td>\n",
       "      <td>7415DD</td>\n",
       "      <td>Deventer</td>\n",
       "      <td>52.268968</td>\n",
       "      <td>6.163495</td>\n",
       "    </tr>\n",
       "    <tr>\n",
       "      <th>3</th>\n",
       "      <td>60</td>\n",
       "      <td>8261LP</td>\n",
       "      <td>Kampen</td>\n",
       "      <td>52.542804</td>\n",
       "      <td>5.927727</td>\n",
       "    </tr>\n",
       "    <tr>\n",
       "      <th>4</th>\n",
       "      <td>65</td>\n",
       "      <td>8031VV</td>\n",
       "      <td>Zwolle</td>\n",
       "      <td>52.529549</td>\n",
       "      <td>6.092312</td>\n",
       "    </tr>\n",
       "  </tbody>\n",
       "</table>\n",
       "</div>"
      ],
      "text/plain": [
       "   huisnummer postcode woonplaats        lat       lon\n",
       "0           6   8266JC     Kampen  52.539016  5.931903\n",
       "1         205   8021AR     Zwolle  52.515551  6.107565\n",
       "2         138   7415DD   Deventer  52.268968  6.163495\n",
       "3          60   8261LP     Kampen  52.542804  5.927727\n",
       "4          65   8031VV     Zwolle  52.529549  6.092312"
      ]
     },
     "execution_count": 9,
     "metadata": {},
     "output_type": "execute_result"
    }
   ],
   "source": [
    "df = pd.read_csv(\"dataset.csv\", sep=\";\")\n",
    "df.head()"
   ]
  },
  {
   "cell_type": "code",
   "execution_count": 11,
   "metadata": {},
   "outputs": [
    {
     "name": "stdout",
     "output_type": "stream",
     "text": [
      "De totale reistijd van deze route is  24 uur, dit is de route voor: Kampen\n",
      "De totale reistijd van deze route is  61 uur, dit is de route voor: Zwolle\n",
      "De totale reistijd van deze route is  49 uur, dit is de route voor: Deventer\n"
     ]
    }
   ],
   "source": [
    "for current_woonplaats in df['woonplaats'].unique():\n",
    "    \n",
    "    # haal alleen de locaties van de huidige woonplaats op\n",
    "    temp_df = df[df['woonplaats'] == current_woonplaats].sample(10).copy() # maak een kopie, met maximaal 150 punten\n",
    "    temp_df['rijnummer'] =  np.arange(temp_df.shape[0]) # voeg een rijnummer toe\n",
    "    \n",
    "    # uitrekenen van coordinaat paren, van losse kolommen naar 1 lange string\n",
    "    # dus van:\n",
    "    # lat, lon\n",
    "    # 1234, 5678\n",
    "    # 9102, 3456\n",
    "    # naar:\n",
    "    # 1234,5678;9102,3456\n",
    "    coords = \"\"\n",
    "    for coordpair in temp_df[['lat','lon']].astype(str).to_dict(\"records\"):\n",
    "        coords += coordpair['lon'] + \",\" + coordpair['lat'] + \";\"\n",
    "        \n",
    "    # haal de laatste ; weg\n",
    "    coords = coords[:-1]\n",
    "    \n",
    "    # doe een api call naar de OSRM-backend instantie en haal een matrix van deze routegegevens op\n",
    "    distance_matrix = np.array(requests.get(\"http://localhost:5000/table/v1/driving/\"+ coords).json()['durations'])\n",
    "    \n",
    "    # los het probleem op met behulp van de tsp_solver\n",
    "    optimized_order, total_duration = solve_tsp_simulated_annealing(distance_matrix)\n",
    "    \n",
    "    # voeg de volgorde toe als kolom aan de orginele dataset\n",
    "    for index, location in enumerate(optimized_order):\n",
    "        temp_df.loc[temp_df['rijnummer'] == location, 'volgorde'] = index\n",
    "        \n",
    "    # sorteer de volgorde met de nieuwe gegevens om een routebook te maken   \n",
    "    temp_df.sort_values(by=\"volgorde\", inplace=True)\n",
    "    \n",
    "        \n",
    "    temp_df.to_csv(\"regulier_\" + current_woonplaats + \".csv\", sep=\";\", index=False)\n",
    "        \n",
    "    print(\"De totale reistijd van deze route is \", round(total_duration/60), \"uur, dit is de route voor:\", current_woonplaats)"
   ]
  }
 ],
 "metadata": {
  "kernelspec": {
   "display_name": "Python 3",
   "language": "python",
   "name": "python3"
  },
  "language_info": {
   "codemirror_mode": {
    "name": "ipython",
    "version": 3
   },
   "file_extension": ".py",
   "mimetype": "text/x-python",
   "name": "python",
   "nbconvert_exporter": "python",
   "pygments_lexer": "ipython3",
   "version": "3.8.5"
  }
 },
 "nbformat": 4,
 "nbformat_minor": 4
}
